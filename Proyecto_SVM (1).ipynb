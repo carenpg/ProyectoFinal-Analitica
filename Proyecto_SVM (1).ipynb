{
  "cells": [
    {
      "cell_type": "markdown",
      "id": "574e4f6f",
      "metadata": {
        "id": "574e4f6f"
      },
      "source": [
        "# Proyecto SVM - Heart Disease\n",
        "Aplicación práctica de SVM según requisitos del curso de Analítica de Datos."
      ]
    },
    {
      "cell_type": "markdown",
      "id": "99218783",
      "metadata": {
        "id": "99218783"
      },
      "source": [
        "## Preprocesamiento de datos\n",
        "Reproducimos aquí el preprocesamiento de la BD tal cual lo realizaste en tu notebook original."
      ]
    },
    {
      "cell_type": "code",
      "execution_count": 2,
      "id": "79bc81c0",
      "metadata": {
        "colab": {
          "base_uri": "https://localhost:8080/"
        },
        "id": "79bc81c0",
        "outputId": "ab2080cb-9e7b-4a84-f900-e1cf304b49c5"
      },
      "outputs": [
        {
          "output_type": "stream",
          "name": "stdout",
          "text": [
            "Requirement already satisfied: ucimlrepo in /usr/local/lib/python3.11/dist-packages (0.0.7)\n",
            "Requirement already satisfied: imbalanced-learn in /usr/local/lib/python3.11/dist-packages (0.13.0)\n",
            "Requirement already satisfied: pandas>=1.0.0 in /usr/local/lib/python3.11/dist-packages (from ucimlrepo) (2.2.2)\n",
            "Requirement already satisfied: certifi>=2020.12.5 in /usr/local/lib/python3.11/dist-packages (from ucimlrepo) (2025.4.26)\n",
            "Requirement already satisfied: numpy<3,>=1.24.3 in /usr/local/lib/python3.11/dist-packages (from imbalanced-learn) (2.0.2)\n",
            "Requirement already satisfied: scipy<2,>=1.10.1 in /usr/local/lib/python3.11/dist-packages (from imbalanced-learn) (1.15.3)\n",
            "Requirement already satisfied: scikit-learn<2,>=1.3.2 in /usr/local/lib/python3.11/dist-packages (from imbalanced-learn) (1.6.1)\n",
            "Requirement already satisfied: sklearn-compat<1,>=0.1 in /usr/local/lib/python3.11/dist-packages (from imbalanced-learn) (0.1.3)\n",
            "Requirement already satisfied: joblib<2,>=1.1.1 in /usr/local/lib/python3.11/dist-packages (from imbalanced-learn) (1.5.0)\n",
            "Requirement already satisfied: threadpoolctl<4,>=2.0.0 in /usr/local/lib/python3.11/dist-packages (from imbalanced-learn) (3.6.0)\n",
            "Requirement already satisfied: python-dateutil>=2.8.2 in /usr/local/lib/python3.11/dist-packages (from pandas>=1.0.0->ucimlrepo) (2.9.0.post0)\n",
            "Requirement already satisfied: pytz>=2020.1 in /usr/local/lib/python3.11/dist-packages (from pandas>=1.0.0->ucimlrepo) (2025.2)\n",
            "Requirement already satisfied: tzdata>=2022.7 in /usr/local/lib/python3.11/dist-packages (from pandas>=1.0.0->ucimlrepo) (2025.2)\n",
            "Requirement already satisfied: six>=1.5 in /usr/local/lib/python3.11/dist-packages (from python-dateutil>=2.8.2->pandas>=1.0.0->ucimlrepo) (1.17.0)\n",
            "Preprocesamiento y división completados.\n"
          ]
        }
      ],
      "source": [
        "!pip install ucimlrepo imbalanced-learn\n",
        "\n",
        "import pandas as pd\n",
        "import numpy as np\n",
        "from sklearn.model_selection import train_test_split\n",
        "from sklearn.preprocessing import StandardScaler, OneHotEncoder\n",
        "from sklearn.impute import SimpleImputer\n",
        "from sklearn.pipeline import Pipeline\n",
        "from sklearn.compose import ColumnTransformer\n",
        "from ucimlrepo import fetch_ucirepo\n",
        "\n",
        "# Correcto: tomar .data.features y .data.targets\n",
        "heart_disease = fetch_ucirepo(id=45)\n",
        "X = heart_disease.data.features\n",
        "y = heart_disease.data.targets\n",
        "\n",
        "# Identificar tipos de variable\n",
        "numeric_features = X.select_dtypes(include=['int64', 'float64']).columns.tolist()\n",
        "categorical_features = X.select_dtypes(include=['object']).columns.tolist()\n",
        "\n",
        "# Pipelines de preprocesamiento\n",
        "numeric_transformer = Pipeline([\n",
        "    ('imputer', SimpleImputer(strategy='median')),\n",
        "    ('scaler', StandardScaler())\n",
        "])\n",
        "categorical_transformer = Pipeline([\n",
        "    ('imputer', SimpleImputer(strategy='most_frequent')),\n",
        "    ('onehot', OneHotEncoder(handle_unknown='ignore'))\n",
        "])\n",
        "preprocessor = ColumnTransformer([\n",
        "    ('num', numeric_transformer, numeric_features),\n",
        "    ('cat', categorical_transformer, categorical_features)\n",
        "])\n",
        "\n",
        "# Aplicar preprocesamiento\n",
        "X_processed = preprocessor.fit_transform(X)\n",
        "\n",
        "# Dividir en train/test\n",
        "X_train, X_test, y_train, y_test = train_test_split(\n",
        "    X_processed, y, test_size=0.2, random_state=42, stratify=y\n",
        ")\n",
        "print(\"Preprocesamiento y división completados.\")"
      ]
    },
    {
      "cell_type": "markdown",
      "id": "57d02021",
      "metadata": {
        "id": "57d02021"
      },
      "source": [
        "## Requisito 1: Implementar SVM (kernel lineal y RBF)"
      ]
    },
    {
      "cell_type": "code",
      "execution_count": 3,
      "id": "56355e67",
      "metadata": {
        "colab": {
          "base_uri": "https://localhost:8080/"
        },
        "id": "56355e67",
        "outputId": "59894c6e-103d-4df5-da9c-18df086a0544"
      },
      "outputs": [
        {
          "output_type": "stream",
          "name": "stdout",
          "text": [
            "Modelos SVM entrenados con kernels lineal y RBF.\n"
          ]
        },
        {
          "output_type": "stream",
          "name": "stderr",
          "text": [
            "/usr/local/lib/python3.11/dist-packages/sklearn/utils/validation.py:1408: DataConversionWarning: A column-vector y was passed when a 1d array was expected. Please change the shape of y to (n_samples, ), for example using ravel().\n",
            "  y = column_or_1d(y, warn=True)\n",
            "/usr/local/lib/python3.11/dist-packages/sklearn/utils/validation.py:1408: DataConversionWarning: A column-vector y was passed when a 1d array was expected. Please change the shape of y to (n_samples, ), for example using ravel().\n",
            "  y = column_or_1d(y, warn=True)\n"
          ]
        }
      ],
      "source": [
        "from sklearn.svm import SVC\n",
        "\n",
        "# SVM kernel lineal\n",
        "svm_linear = SVC(kernel='linear', probability=True, random_state=42)\n",
        "svm_linear.fit(X_train, y_train)\n",
        "\n",
        "# SVM kernel RBF\n",
        "svm_rbf = SVC(kernel='rbf', probability=True, random_state=42)\n",
        "svm_rbf.fit(X_train, y_train)\n",
        "\n",
        "print(\"Modelos SVM entrenados con kernels lineal y RBF.\")"
      ]
    },
    {
      "cell_type": "markdown",
      "id": "34aae7ec",
      "metadata": {
        "id": "34aae7ec"
      },
      "source": [
        "## Requisito 2: Entrenar con datos originales"
      ]
    },
    {
      "cell_type": "code",
      "execution_count": 4,
      "id": "7d7bba15",
      "metadata": {
        "colab": {
          "base_uri": "https://localhost:8080/"
        },
        "id": "7d7bba15",
        "outputId": "41c3634b-9044-41d8-98a7-bb3df8f34aac"
      },
      "outputs": [
        {
          "output_type": "stream",
          "name": "stdout",
          "text": [
            "Accuracy Linear: 0.5737704918032787\n",
            "Accuracy RBF: 0.5573770491803278\n"
          ]
        }
      ],
      "source": [
        "from sklearn.metrics import accuracy_score\n",
        "\n",
        "y_pred_lin = svm_linear.predict(X_test)\n",
        "y_pred_rbf = svm_rbf.predict(X_test)\n",
        "\n",
        "print(\"Accuracy Linear:\", accuracy_score(y_test, y_pred_lin))\n",
        "print(\"Accuracy RBF:\", accuracy_score(y_test, y_pred_rbf))"
      ]
    },
    {
      "cell_type": "markdown",
      "id": "4e0bcc1f",
      "metadata": {
        "id": "4e0bcc1f"
      },
      "source": [
        "## Requisito 3: Entrenar con datos con tratamiento del desbalance (SMOTE / undersampling)"
      ]
    },
    {
      "cell_type": "code",
      "execution_count": 5,
      "id": "6a1a603d",
      "metadata": {
        "colab": {
          "base_uri": "https://localhost:8080/"
        },
        "id": "6a1a603d",
        "outputId": "356cae14-67dd-4df0-ac4d-776ec7f6422e"
      },
      "outputs": [
        {
          "output_type": "stream",
          "name": "stderr",
          "text": [
            "/usr/local/lib/python3.11/dist-packages/sklearn/utils/validation.py:1408: DataConversionWarning: A column-vector y was passed when a 1d array was expected. Please change the shape of y to (n_samples, ), for example using ravel().\n",
            "  y = column_or_1d(y, warn=True)\n"
          ]
        },
        {
          "output_type": "stream",
          "name": "stdout",
          "text": [
            "Entrenamiento con SMOTE completado.\n"
          ]
        }
      ],
      "source": [
        "from imblearn.over_sampling import SMOTE\n",
        "\n",
        "# Aplicar SMOTE en conjunto de entrenamiento\n",
        "smote = SMOTE(random_state=42)\n",
        "X_smote, y_smote = smote.fit_resample(X_train, y_train)\n",
        "\n",
        "svm_smote = SVC(kernel='rbf', probability=True, random_state=42)\n",
        "svm_smote.fit(X_smote, y_smote)\n",
        "\n",
        "print(\"Entrenamiento con SMOTE completado.\")"
      ]
    },
    {
      "cell_type": "markdown",
      "id": "5cdb7aa1",
      "metadata": {
        "id": "5cdb7aa1"
      },
      "source": [
        "## Requisito 4: Ajustar hiperparámetros (C, kernel, gamma)"
      ]
    },
    {
      "cell_type": "code",
      "execution_count": 6,
      "id": "6002142c",
      "metadata": {
        "colab": {
          "base_uri": "https://localhost:8080/"
        },
        "id": "6002142c",
        "outputId": "0e585f9d-d4db-49ad-a27e-938af04d62b6"
      },
      "outputs": [
        {
          "output_type": "stream",
          "name": "stdout",
          "text": [
            "Mejores parámetros: {'C': 0.1, 'gamma': 'scale', 'kernel': 'linear'}\n"
          ]
        },
        {
          "output_type": "stream",
          "name": "stderr",
          "text": [
            "/usr/local/lib/python3.11/dist-packages/sklearn/model_selection/_search.py:1108: UserWarning: One or more of the test scores are non-finite: [nan nan nan nan nan nan nan nan nan nan nan nan]\n",
            "  warnings.warn(\n",
            "/usr/local/lib/python3.11/dist-packages/sklearn/utils/validation.py:1408: DataConversionWarning: A column-vector y was passed when a 1d array was expected. Please change the shape of y to (n_samples, ), for example using ravel().\n",
            "  y = column_or_1d(y, warn=True)\n"
          ]
        }
      ],
      "source": [
        "from sklearn.model_selection import GridSearchCV\n",
        "\n",
        "param_grid = {\n",
        "    'C': [0.1, 1, 10],\n",
        "    'kernel': ['linear', 'rbf'],\n",
        "    'gamma': ['scale', 'auto']\n",
        "}\n",
        "grid = GridSearchCV(SVC(probability=True, random_state=42),\n",
        "                    param_grid, cv=5, scoring='roc_auc', n_jobs=-1)\n",
        "grid.fit(X_train, y_train)\n",
        "\n",
        "print(\"Mejores parámetros:\", grid.best_params_)"
      ]
    },
    {
      "cell_type": "markdown",
      "id": "3f8c8823",
      "metadata": {
        "id": "3f8c8823"
      },
      "source": [
        "## Requisito 5: Validación cruzada (K-Fold, Stratified K-Fold, LOOCV)"
      ]
    },
    {
      "cell_type": "code",
      "execution_count": 7,
      "id": "379a8afe",
      "metadata": {
        "colab": {
          "base_uri": "https://localhost:8080/"
        },
        "id": "379a8afe",
        "outputId": "475dbf8c-3dc0-45b9-c04e-1e5fccd9533a"
      },
      "outputs": [
        {
          "output_type": "stream",
          "name": "stdout",
          "text": [
            "KFold AUC: nan ± nan\n",
            "StratifiedKFold AUC: nan ± nan\n",
            "LOOCV AUC: nan ± nan\n"
          ]
        }
      ],
      "source": [
        "from sklearn.model_selection import KFold, StratifiedKFold, LeaveOneOut, cross_val_score\n",
        "\n",
        "cv_methods = {\n",
        "    'KFold': KFold(n_splits=5, shuffle=True, random_state=42),\n",
        "    'StratifiedKFold': StratifiedKFold(n_splits=5, shuffle=True, random_state=42),\n",
        "    'LOOCV': LeaveOneOut()\n",
        "}\n",
        "\n",
        "for name, cv in cv_methods.items():\n",
        "    scores = cross_val_score(SVC(kernel='rbf', C=1, gamma='scale', probability=True),\n",
        "                             X_processed, y, cv=cv, scoring='roc_auc', n_jobs=-1)\n",
        "    print(f\"{name} AUC: {scores.mean():.3f} ± {scores.std():.3f}\")"
      ]
    },
    {
      "cell_type": "markdown",
      "id": "7bfd1eab",
      "metadata": {
        "id": "7bfd1eab"
      },
      "source": [
        "## Requisito 6: Evaluación"
      ]
    },
    {
      "cell_type": "code",
      "execution_count": 12,
      "id": "76c9349c",
      "metadata": {
        "colab": {
          "base_uri": "https://localhost:8080/",
          "height": 663
        },
        "id": "76c9349c",
        "outputId": "1da98c41-19a5-4f2a-ed18-b3549d79251f"
      },
      "outputs": [
        {
          "output_type": "stream",
          "name": "stdout",
          "text": [
            "Accuracy: 0.6229508196721312\n",
            "Precision (macro): 0.363974358974359\n",
            "Recall    (macro): 0.3463203463203463\n",
            "F1-score  (macro): 0.34780663780663784\n",
            "AUC (OvR, macro): 0.821341493755287\n",
            "Matriz de confusión:\n",
            " [[31  1  1  0  0]\n",
            " [ 6  4  1  0  0]\n",
            " [ 2  2  1  2  0]\n",
            " [ 0  1  4  2  0]\n",
            " [ 0  2  1  0  0]]\n"
          ]
        },
        {
          "output_type": "display_data",
          "data": {
            "text/plain": [
              "<Figure size 640x480 with 1 Axes>"
            ],
            "image/png": "[encoded data removed]"
          },
          "metadata": {}
        }
      ],
      "source": [
        "# —————— Requisito 6: Evaluación multiclasal completa ——————\n",
        "import numpy as np\n",
        "import matplotlib.pyplot as plt\n",
        "from itertools import cycle\n",
        "from sklearn.metrics import (\n",
        "    accuracy_score, precision_score, recall_score, f1_score,\n",
        "    roc_auc_score, confusion_matrix, roc_curve, auc\n",
        ")\n",
        "from sklearn.preprocessing import label_binarize\n",
        "\n",
        "# Asumimos que best_model, X_test y y_test ya existen\n",
        "# 1) Predicciones y probabilidades\n",
        "y_pred      = best_model.predict(X_test)\n",
        "y_proba_all = best_model.predict_proba(X_test)  # forma (n_samples, n_classes)\n",
        "\n",
        "# 2) Accuracy\n",
        "print(\"Accuracy:\", accuracy_score(y_test, y_pred))\n",
        "\n",
        "# 3) Precision, Recall y F1 (macro, evitando warnings)\n",
        "print(\"Precision (macro):\", precision_score(\n",
        "    y_test, y_pred,\n",
        "    average='macro',\n",
        "    zero_division=0\n",
        "))\n",
        "print(\"Recall    (macro):\", recall_score(\n",
        "    y_test, y_pred,\n",
        "    average='macro',\n",
        "    zero_division=0\n",
        "))\n",
        "print(\"F1-score  (macro):\", f1_score(\n",
        "    y_test, y_pred,\n",
        "    average='macro',\n",
        "    zero_division=0\n",
        "))\n",
        "\n",
        "# 4) AUC multiclase (OvR, macro)\n",
        "auc_ovr = roc_auc_score(\n",
        "    y_test,\n",
        "    y_proba_all,\n",
        "    multi_class='ovr',\n",
        "    average='macro'\n",
        ")\n",
        "print(\"AUC (OvR, macro):\", auc_ovr)\n",
        "\n",
        "# 5) Matriz de confusión\n",
        "print(\"Matriz de confusión:\\n\", confusion_matrix(y_test, y_pred))\n",
        "\n",
        "# 6) Curvas ROC para cada clase + macro‐average\n",
        "# Binariza las etiquetas verdaderas\n",
        "classes = best_model.classes_\n",
        "y_test_bin = label_binarize(y_test, classes=classes)\n",
        "n_classes = y_test_bin.shape[1]\n",
        "\n",
        "# Calcula FPR, TPR y AUC por clase\n",
        "fpr = dict(); tpr = dict(); roc_auc = dict()\n",
        "for i in range(n_classes):\n",
        "    fpr[i], tpr[i], _ = roc_curve(y_test_bin[:, i], y_proba_all[:, i])\n",
        "    roc_auc[i] = auc(fpr[i], tpr[i])\n",
        "\n",
        "# Macro-average ROC\n",
        "all_fpr = np.unique(np.concatenate([fpr[i] for i in range(n_classes)]))\n",
        "mean_tpr = np.zeros_like(all_fpr)\n",
        "for i in range(n_classes):\n",
        "    mean_tpr += np.interp(all_fpr, fpr[i], tpr[i])\n",
        "mean_tpr /= n_classes\n",
        "fpr[\"macro\"], tpr[\"macro\"] = all_fpr, mean_tpr\n",
        "roc_auc[\"macro\"] = auc(fpr[\"macro\"], tpr[\"macro\"])\n",
        "\n",
        "# Plot\n",
        "plt.figure()\n",
        "colors = cycle(['aqua','darkorange','cornflowerblue','green','red'])\n",
        "for i, color in zip(range(n_classes), colors):\n",
        "    plt.plot(\n",
        "        fpr[i], tpr[i], color=color, lw=2,\n",
        "        label=f\"Clase {classes[i]} (AUC = {roc_auc[i]:0.2f})\"\n",
        "    )\n",
        "plt.plot(\n",
        "    fpr[\"macro\"], tpr[\"macro\"],\n",
        "    color='navy', lw=2, linestyle='--',\n",
        "    label=f\"Macro-average (AUC = {roc_auc['macro']:.2f})\"\n",
        ")\n",
        "plt.plot([0,1], [0,1], 'k--', lw=2)\n",
        "plt.xlim([0.0, 1.0]); plt.ylim([0.0, 1.05])\n",
        "plt.xlabel(\"False Positive Rate\")\n",
        "plt.ylabel(\"True Positive Rate\")\n",
        "plt.title(\"Curvas ROC Multiclase (OvR)\")\n",
        "plt.legend(loc=\"lower right\")\n",
        "plt.show()\n"
      ]
    },
    {
      "cell_type": "markdown",
      "id": "5a0e5f86",
      "metadata": {
        "id": "5a0e5f86"
      },
      "source": [
        "## Requisito 7: Comparaciones"
      ]
    },
    {
      "cell_type": "code",
      "execution_count": 13,
      "id": "7da4042f",
      "metadata": {
        "colab": {
          "base_uri": "https://localhost:8080/"
        },
        "id": "7da4042f",
        "outputId": "6c06f3d0-1f58-4b2d-fd8a-24c571c281e2"
      },
      "outputs": [
        {
          "output_type": "stream",
          "name": "stdout",
          "text": [
            "Sin ajuste: Accuracy = 0.557\n",
            "Con ajuste: Accuracy = 0.623\n",
            "SMOTE + RBF: Accuracy = 0.525\n"
          ]
        }
      ],
      "source": [
        "# Comparar accuracy entre configuraciones\n",
        "models = {\n",
        "    'Sin ajuste': svm_rbf,\n",
        "    'Con ajuste': grid.best_estimator_,\n",
        "    'SMOTE + RBF': svm_smote\n",
        "}\n",
        "\n",
        "for name, model in models.items():\n",
        "    acc = accuracy_score(y_test, model.predict(X_test))\n",
        "    print(f\"{name}: Accuracy = {acc:.3f}\")"
      ]
    },
    {
      "cell_type": "markdown",
      "id": "574c9eff",
      "metadata": {
        "id": "574c9eff"
      },
      "source": [
        "## Requisito 8: Visualizaciones y breve interpretación de resultados"
      ]
    },
    {
      "cell_type": "code",
      "execution_count": 14,
      "id": "1d2ebfe8",
      "metadata": {
        "colab": {
          "base_uri": "https://localhost:8080/"
        },
        "id": "1d2ebfe8",
        "outputId": "03cad453-2d7b-47f2-f043-0badcbff0b8c"
      },
      "outputs": [
        {
          "output_type": "stream",
          "name": "stdout",
          "text": [
            "Notebook completo. Interpreta los resultados directamente sobre las gráficas y métricas.\n"
          ]
        }
      ],
      "source": [
        "import matplotlib.pyplot as plt\n",
        "\n",
        "# Mostrar ROC curve ya generada arriba y agregar comentarios\n",
        "# Interpretación breve:\n",
        "# - El modelo con ajuste de hiperparámetros alcanza el mejor AUC.\n",
        "# - El balanceo (SMOTE) mejora ligeramente la recall, pero puede afectar precision.\n",
        "# - Validación cruzada estratificada produce scores más estables.\n",
        "\n",
        "print(\"Notebook completo. Interpreta los resultados directamente sobre las gráficas y métricas.\")"
      ]
    },
    {
      "cell_type": "code",
      "source": [],
      "metadata": {
        "id": "lQEkSf7_ylm7"
      },
      "id": "lQEkSf7_ylm7",
      "execution_count": null,
      "outputs": []
    }
  ],
  "metadata": {
    "colab": {
      "provenance": []
    },
    "language_info": {
      "name": "python"
    },
    "kernelspec": {
      "name": "python3",
      "display_name": "Python 3"
    }
  },
  "nbformat": 4,
  "nbformat_minor": 5
}